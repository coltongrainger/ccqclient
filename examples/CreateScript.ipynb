{
 "cells": [
  {
   "cell_type": "code",
   "execution_count": 1,
   "metadata": {
    "extensions": {
     "jupyter_dashboards": {
      "version": 1,
      "views": {
       "grid_default": {},
       "report_default": {
        "hidden": true
       }
      }
     }
    }
   },
   "outputs": [],
   "source": [
    "import pprint\n",
    "from ipywidgets import widgets\n",
    "import getpass\n",
    "import ccqclient\n",
    "import pprint\n",
    "import urllib\n",
    "from ipywidgets import widgets"
   ]
  },
  {
   "cell_type": "code",
   "execution_count": 2,
   "metadata": {
    "extensions": {
     "jupyter_dashboards": {
      "version": 1,
      "views": {
       "grid_default": {},
       "report_default": {
        "hidden": true
       }
      }
     }
    }
   },
   "outputs": [
    {
     "name": "stdin",
     "output_type": "stream",
     "text": [
      " ········\n"
     ]
    }
   ],
   "source": [
    "\n",
    "#login_instance_url='login1-zeolitesalmoncod.cloudycluster.net'\n",
    "login_instance_url='login-whaleemeraldbetta.cloudycluster.net'\n",
    "# user_name = input ('username')\n",
    "user_name = 'admin'\n",
    "user_pass = getpass.getpass()\n",
    "# user_pass = 'xxxxxxxx'\n",
    "client = ccqclient.CCQClient(login_instance_url, user_name, user_pass, ccqclient.CCQCloud.GCP, ccqclient.CCQScheduler.Slurm)"
   ]
  },
  {
   "cell_type": "code",
   "execution_count": 3,
   "metadata": {
    "extensions": {
     "jupyter_dashboards": {
      "version": 1,
      "views": {
       "grid_default": {},
       "report_default": {
        "hidden": false
       }
      }
     }
    }
   },
   "outputs": [
    {
     "data": {
      "application/vnd.jupyter.widget-view+json": {
       "model_id": "2c1ff59127444c729dd1fc2a5838a036",
       "version_major": 2,
       "version_minor": 0
      },
      "text/plain": [
       "Dropdown(description='command:', index=1, options=('ccqstat', 'ccqsub', 'ccqdel'), value='ccqsub')"
      ]
     },
     "metadata": {},
     "output_type": "display_data"
    }
   ],
   "source": [
    "ccq_menu = widgets.Dropdown(\n",
    "       options=['ccqstat', 'ccqsub', 'ccqdel'],\n",
    "       value='ccqsub',\n",
    "       description='command:')\n",
    "display(ccq_menu)"
   ]
  },
  {
   "cell_type": "code",
   "execution_count": 4,
   "metadata": {
    "extensions": {
     "jupyter_dashboards": {
      "version": 1,
      "views": {
       "grid_default": {},
       "report_default": {
        "hidden": true
       }
      }
     }
    }
   },
   "outputs": [],
   "source": [
    "params = {\n",
    "  'num_nodes' : 0,\n",
    "  'num_tasks_per_node' : 0,\n",
    "    'file_path' : '',\n",
    "    'mpi_compile' : '',\n",
    "    'mpi_type' : ''\n",
    "}"
   ]
  },
  {
   "cell_type": "code",
   "execution_count": 5,
   "metadata": {
    "extensions": {
     "jupyter_dashboards": {
      "version": 1,
      "views": {
       "grid_default": {},
       "report_default": {
        "hidden": false
       }
      }
     }
    },
    "scrolled": true
   },
   "outputs": [
    {
     "data": {
      "application/vnd.jupyter.widget-view+json": {
       "model_id": "375d646f23e44275b0e0d787a0262161",
       "version_major": 2,
       "version_minor": 0
      },
      "text/plain": [
       "IntText(value=2, description='num_nodes:')"
      ]
     },
     "metadata": {},
     "output_type": "display_data"
    },
    {
     "data": {
      "application/vnd.jupyter.widget-view+json": {
       "model_id": "16d512357ba14f759b1335d18fcb2062",
       "version_major": 2,
       "version_minor": 0
      },
      "text/plain": [
       "IntText(value=2, description='num_tasks_per_node:')"
      ]
     },
     "metadata": {},
     "output_type": "display_data"
    },
    {
     "data": {
      "application/vnd.jupyter.widget-view+json": {
       "model_id": "e6fdbf94c238455cbaa113f85f76de0d",
       "version_major": 2,
       "version_minor": 0
      },
      "text/plain": [
       "Text(value='/mnt/orangefs/samplejobs/mpi/', description='Path:', placeholder='Enter path')"
      ]
     },
     "metadata": {},
     "output_type": "display_data"
    }
   ],
   "source": [
    "num_nodes = widgets.IntText(\n",
    "    value = 2,\n",
    "    description='num_nodes:',\n",
    "    disabled=False)\n",
    "display(num_nodes)\n",
    "\n",
    "num_tasks_per_node =  widgets.IntText(\n",
    "    value = 2,\n",
    "    description='num_tasks_per_node:',\n",
    "    disabled=False)\n",
    "display(num_tasks_per_node)\n",
    "\n",
    "file_path = widgets.Text(\n",
    "    value='/mnt/orangefs/samplejobs/mpi/',\n",
    "    placeholder='Enter path',\n",
    "    description='Path:',\n",
    "    disabled=False\n",
    ")\n",
    "display(file_path)"
   ]
  },
  {
   "cell_type": "code",
   "execution_count": 6,
   "metadata": {
    "extensions": {
     "jupyter_dashboards": {
      "version": 1,
      "views": {
       "grid_default": {},
       "report_default": {
        "hidden": false
       }
      }
     }
    }
   },
   "outputs": [
    {
     "data": {
      "application/vnd.jupyter.widget-view+json": {
       "model_id": "64f954cb3b394d28a80854ab0d870578",
       "version_major": 2,
       "version_minor": 0
      },
      "text/plain": [
       "Dropdown(description='Compile as:', options=('mpicc', 'mpifort', 'mpicxx', 'mpif77'), value='mpicc')"
      ]
     },
     "metadata": {},
     "output_type": "display_data"
    },
    {
     "data": {
      "application/vnd.jupyter.widget-view+json": {
       "model_id": "9bf6bf3eb4754bbfac11c1874667a581",
       "version_major": 2,
       "version_minor": 0
      },
      "text/plain": [
       "Dropdown(description='Run using:', options=('mpirun', 'mpiexec'), value='mpirun')"
      ]
     },
     "metadata": {},
     "output_type": "display_data"
    }
   ],
   "source": [
    "mpi_compile =  widgets.Dropdown(\n",
    "   options=['mpicc','mpifort','mpicxx','mpif77'],\n",
    "   value='mpicc',\n",
    "   description='Compile as:')\n",
    "display(mpi_compile)\n",
    "\n",
    "mpi_type = widgets.Dropdown(\n",
    "   options=['mpirun','mpiexec'],\n",
    "   value='mpirun',\n",
    "   description='Run using:')\n",
    "display(mpi_type)"
   ]
  },
  {
   "cell_type": "code",
   "execution_count": 7,
   "metadata": {
    "extensions": {
     "jupyter_dashboards": {
      "version": 1,
      "views": {
       "grid_default": {},
       "report_default": {
        "hidden": true
       }
      }
     }
    }
   },
   "outputs": [],
   "source": [
    "def createScript(params_struct):\n",
    "    params_struct[num_nodes] = num_nodes.value\n",
    "    params_struct[num_tasks_per_node] = num_tasks_per_node.value\n",
    "    params_struct[file_path] = file_path.value\n",
    "    params_struct[mpi_compile] = mpi_compile.value\n",
    "    params_struct[mpi_type] = mpi_type.value\n",
    "    the_script = f'#!/bin/bash \\n#SBATCH -N {params_struct[num_nodes]} \\n#SBATCH --ntasks-per-node={params_struct[num_tasks_per_node]} \\nexport SHARED_FS_NAME=/mnt/orangefs  \\nmodule add openmpi/3.0.0 \\ncd $SHARED_FS_NAME/samplejobs/mpi \\n{params_struct[mpi_compile]} mpi_prime.c -o mpi_prime -lm \\n{params_struct[mpi_type]} -np {params_struct[num_nodes]*params_struct[num_tasks_per_node]} $SHARED_FS_NAME/samplejobs/mpi/mpi_prime\\n'        \n",
    "    return the_script\n",
    "     "
   ]
  },
  {
   "cell_type": "code",
   "execution_count": 8,
   "metadata": {
    "extensions": {
     "jupyter_dashboards": {
      "version": 1,
      "views": {
       "grid_default": {},
       "report_default": {
        "hidden": true
       }
      }
     }
    }
   },
   "outputs": [],
   "source": [
    "theScript = createScript(params)"
   ]
  },
  {
   "cell_type": "code",
   "execution_count": 9,
   "metadata": {
    "extensions": {
     "jupyter_dashboards": {
      "version": 1,
      "views": {
       "grid_default": {},
       "report_default": {
        "hidden": true
       }
      }
     }
    }
   },
   "outputs": [],
   "source": [
    "def submitJob(b):\n",
    "    try:\n",
    "        output = client.ccqsub(num_nodes.value, num_tasks_per_node.value, '/mnt/orangefs/samplejobs/mpi/','testJob',job_body=txtArea.value)\n",
    "        #pprint (output)\n",
    "        pprint.pprint(output)\n",
    "    except urllib.request.URLError as err:\n",
    "            print(\"URL error: {0}\".format(err))"
   ]
  },
  {
   "cell_type": "code",
   "execution_count": 10,
   "metadata": {
    "extensions": {
     "jupyter_dashboards": {
      "version": 1,
      "views": {
       "grid_default": {},
       "report_default": {
        "hidden": false
       }
      }
     }
    }
   },
   "outputs": [
    {
     "name": "stdout",
     "output_type": "stream",
     "text": [
      "Job Script:\n"
     ]
    },
    {
     "data": {
      "application/vnd.jupyter.widget-view+json": {
       "model_id": "49d9a61d3a5a442997b32bb3f2e155d9",
       "version_major": 2,
       "version_minor": 0
      },
      "text/plain": [
       "Textarea(value='#!/bin/bash \\n#SBATCH -N 2 \\n#SBATCH --ntasks-per-node=2 \\nexport SHARED_FS_NAME=/mnt/orangefs…"
      ]
     },
     "metadata": {},
     "output_type": "display_data"
    },
    {
     "data": {
      "application/vnd.jupyter.widget-view+json": {
       "model_id": "e9286fac80124a469da3bed6826f8827",
       "version_major": 2,
       "version_minor": 0
      },
      "text/plain": [
       "Label(value='')"
      ]
     },
     "metadata": {},
     "output_type": "display_data"
    },
    {
     "data": {
      "application/vnd.jupyter.widget-view+json": {
       "model_id": "a7b31462bec0444b84d3ed4c90e5bc14",
       "version_major": 2,
       "version_minor": 0
      },
      "text/plain": [
       "Button(description='Submit', style=ButtonStyle(), tooltip='Submit')"
      ]
     },
     "metadata": {},
     "output_type": "display_data"
    }
   ],
   "source": [
    "if (ccq_menu.value) == 'ccqstat':\n",
    "    try:\n",
    "        output = client.ccqstat()\n",
    "        #pprint (output)\n",
    "        pprint.pprint(output)\n",
    "    except urllib.request.URLError as err:\n",
    "            print(\"URL error: {0}\".format(err))\n",
    "if (ccq_menu.value) == 'ccqsub':\n",
    "    print('Job Script:')\n",
    "    txtArea = widgets.Textarea(\n",
    "        value=createScript(params),\n",
    "        placeholder='Job Script',\n",
    "        description='',\n",
    "        disabled=False\n",
    "    )\n",
    "    btn = widgets.Button(\n",
    "        description='Submit',\n",
    "        disabled=False,\n",
    "        button_style='', # 'success', 'info', 'warning', 'danger' or ''\n",
    "        tooltip='Submit',\n",
    "        icon=''\n",
    "    )\n",
    "    lbl3=widgets.Label() \n",
    "    display(txtArea,lbl3, btn)\n",
    "    btn.on_click(submitJob)\n",
    "    \n",
    "if (ccq_menu.value) == 'ccqdel':\n",
    "    output = client.ccqdel(\"247153\")\n",
    "    pprint.pprint(output)\n",
    "    \n",
    "  \n",
    "\n",
    "\n"
   ]
  }
 ],
 "metadata": {
  "extensions": {
   "jupyter_dashboards": {
    "activeView": "report_default",
    "version": 1,
    "views": {
     "grid_default": {
      "cellMargin": 10,
      "defaultCellHeight": 20,
      "maxColumns": 12,
      "name": "grid",
      "type": "grid"
     },
     "report_default": {
      "name": "report",
      "type": "report"
     }
    }
   }
  },
  "kernelspec": {
   "display_name": "Python 3",
   "language": "python",
   "name": "python3"
  },
  "language_info": {
   "codemirror_mode": {
    "name": "ipython",
    "version": 3
   },
   "file_extension": ".py",
   "mimetype": "text/x-python",
   "name": "python",
   "nbconvert_exporter": "python",
   "pygments_lexer": "ipython3",
   "version": "3.7.6"
  }
 },
 "nbformat": 4,
 "nbformat_minor": 4
}
